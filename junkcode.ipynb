{
 "cells": [
  {
   "cell_type": "code",
   "execution_count": 29,
   "id": "ad5f37a3",
   "metadata": {},
   "outputs": [],
   "source": [
    "def print_hello_world(no_of_times):\n",
    "    for i in range(0,no_of_times):\n",
    "        if no_of_times>5:\n",
    "            print(\"Hello World\")\n",
    "        elif no_of_times==5:\n",
    "            print(\"This is to be End\")\n",
    "        else:\n",
    "            print(\"comback to india\")"
   ]
  },
  {
   "cell_type": "code",
   "execution_count": 30,
   "id": "abdfea54",
   "metadata": {
    "collapsed": true
   },
   "outputs": [
    {
     "name": "stdout",
     "output_type": "stream",
     "text": [
      "Hello World\n",
      "Hello World\n",
      "Hello World\n",
      "Hello World\n",
      "Hello World\n",
      "Hello World\n"
     ]
    }
   ],
   "source": [
    "print_hello_world(6)"
   ]
  },
  {
   "cell_type": "code",
   "execution_count": 33,
   "id": "e5ccb026",
   "metadata": {},
   "outputs": [],
   "source": [
    "def product_of_two_numbers(a, b):\n",
    "    product = a * b\n",
    "    average = (product + a) / 2\n",
    "    if average > a:\n",
    "        print(\"yes\")\n",
    "    else:\n",
    "        print(\"no\")\n",
    "    return product\n"
   ]
  },
  {
   "cell_type": "code",
   "execution_count": 35,
   "id": "3d99034f",
   "metadata": {},
   "outputs": [
    {
     "name": "stdout",
     "output_type": "stream",
     "text": [
      "yes\n",
      "mulitple of two product is 2\n"
     ]
    }
   ],
   "source": [
    "res=product_of_two_numbers(1,2)\n",
    "print(f\"mulitple of two product is {res}\")"
   ]
  },
  {
   "cell_type": "code",
   "execution_count": 14,
   "id": "bbb7073f",
   "metadata": {},
   "outputs": [
    {
     "name": "stdout",
     "output_type": "stream",
     "text": [
      "Hello\n",
      "test\n",
      "word\n"
     ]
    }
   ],
   "source": [
    "function_name(\"test\")"
   ]
  },
  {
   "cell_type": "code",
   "execution_count": null,
   "id": "f3c7f42f",
   "metadata": {},
   "outputs": [],
   "source": []
  }
 ],
 "metadata": {
  "kernelspec": {
   "display_name": "Python 3 (ipykernel)",
   "language": "python",
   "name": "python3"
  },
  "language_info": {
   "codemirror_mode": {
    "name": "ipython",
    "version": 3
   },
   "file_extension": ".py",
   "mimetype": "text/x-python",
   "name": "python",
   "nbconvert_exporter": "python",
   "pygments_lexer": "ipython3",
   "version": "3.11.3"
  }
 },
 "nbformat": 4,
 "nbformat_minor": 5
}
